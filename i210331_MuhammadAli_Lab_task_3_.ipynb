{
  "nbformat": 4,
  "nbformat_minor": 0,
  "metadata": {
    "colab": {
      "provenance": []
    },
    "kernelspec": {
      "name": "python3",
      "display_name": "Python 3"
    },
    "language_info": {
      "name": "python"
    }
  },
  "cells": [
    {
      "cell_type": "markdown",
      "source": [
        "# Lab Task 01"
      ],
      "metadata": {
        "id": "DR3RvooloecS"
      }
    },
    {
      "cell_type": "markdown",
      "source": [
        "Reshape a 1D NumPy array into a 2D array with dimensions (3, 4).\n",
        "\n",
        "Concatenate two NumPy arrays horizontally and vertically."
      ],
      "metadata": {
        "id": "Oi-yFvItoWzc"
      }
    },
    {
      "cell_type": "code",
      "source": [
        "#code here"
      ],
      "metadata": {
        "id": "c379PMYOobDK"
      },
      "execution_count": null,
      "outputs": []
    },
    {
      "cell_type": "markdown",
      "source": [
        "# Lab Task 02"
      ],
      "metadata": {
        "id": "Dv9DtQ3jp6mq"
      }
    },
    {
      "cell_type": "markdown",
      "source": [
        "\n",
        "## Email Classification\n",
        "Develope a tool which will classify an email.\n",
        "\n",
        "### Tasks:\n",
        "* Create a function classify_emails that takes a list of emails as an argument.\n",
        "* Inside the function, categorize emails into \"Important,\" \"Promotions,\" and \"Spam\" based on keywords and content analysis.\n",
        "* Loop through the emails and identify keywords to determine their category.\n",
        "* If an email contains keywords indicating importance, assign it as \"Important.\"\n",
        "* If an email contains keywords related to promotions or deals, assign it as \"Promotions.\"\n",
        "* If an email is suspected to be spam based on certain keywords or patterns, assign it as \"Spam.\"\n",
        "* Return three lists of emails for each category.\n",
        "* Print the lists."
      ],
      "metadata": {
        "id": "2i6-zm_1ZAdn"
      }
    },
    {
      "cell_type": "code",
      "source": [
        "#code here\n",
        "def classify_emails(emails):\n",
        "    important = ['urgent', 'important','reminder']\n",
        "    promotions = ['deal', 'promotion']\n",
        "    spam = ['lottery', 'claim your prize','free']\n",
        "\n",
        "    important_emails = []\n",
        "    promotions_emails = []\n",
        "    spam_emails = []\n",
        "\n",
        "    for email in emails:\n",
        "        email_lower = email.lower()\n",
        "        if any(keyword in email_lower for keyword in important):\n",
        "            important_emails.append(email)\n",
        "        elif any(keyword in email_lower for keyword in promotions):\n",
        "            promotions_emails.append(email)\n",
        "        elif any(keyword in email_lower for keyword in spam):\n",
        "            spam_emails.append(email)\n",
        "        else:\n",
        "            promotions_emails.append(email)\n",
        "    return important_emails, promotions_emails, spam_emails\n",
        "\n",
        "emails = [\n",
        "    \"URGENT: Please review document\",\n",
        "    \"Special deal for you!\",\n",
        "    \"You won a free trip!\",\n",
        "    \"Reminder: Action required for upcoming event\",\n",
        "    \"Exclusive promotion just for you\"\n",
        "]\n",
        "\n",
        "important_emails, promotions_emails, spam_emails = classify_emails(emails)\n",
        "\n",
        "print(\"Important Emails:\")\n",
        "for email in important_emails:\n",
        "    print(email)\n",
        "print(\"\")\n",
        "print(\"Promotions Emails:\")\n",
        "for email in promotions_emails:\n",
        "    print(email)\n",
        "print(\"\")\n",
        "print(\"Spam Emails:\")\n",
        "for email in spam_emails:\n",
        "    print(email)\n"
      ],
      "metadata": {
        "id": "SnCGPkq-o84Z",
        "colab": {
          "base_uri": "https://localhost:8080/"
        },
        "outputId": "9584ddc1-8c8b-4fa8-be96-7a3167765c7c"
      },
      "execution_count": 3,
      "outputs": [
        {
          "output_type": "stream",
          "name": "stdout",
          "text": [
            "Important Emails:\n",
            "URGENT: Please review document\n",
            "Reminder: Action required for upcoming event\n",
            "\n",
            "Promotions Emails:\n",
            "Special deal for you!\n",
            "Exclusive promotion just for you\n",
            "\n",
            "Spam Emails:\n",
            "You won a free trip!\n"
          ]
        }
      ]
    },
    {
      "cell_type": "markdown",
      "source": [
        "# Lab Task 03"
      ],
      "metadata": {
        "id": "amtV-GLWpCC7"
      }
    },
    {
      "cell_type": "markdown",
      "source": [
        "## English-Spanish Dictionary\n",
        "You are creating a basic English-Spanish dictionary that allows users to look up English words and find their Spanish translations.\n",
        "\n",
        "\n",
        "### Tasks\n",
        "* Create a dictionary where English words are keys and their Spanish translations are values.\n",
        "* Ask the user to input an English word.\n",
        "* Check if the word exists in the dictionary.\n",
        "* If the word exists, print its Spanish translation.\n",
        "* If the word does not exist, inform the user that the translation is not available.\n",
        "* Implement a loop that allows the user to keep looking up words until they choose to exit.\n"
      ],
      "metadata": {
        "id": "M2Zg-XsUpC72"
      }
    },
    {
      "cell_type": "code",
      "source": [
        "#code here\n",
        "dictionary = {\n",
        "    \"hello\": \"hola\",\n",
        "    \"goodbye\": \"adiós\",\n",
        "    \"thank you\": \"gracias\",\n",
        "    \"please\": \"por favor\",\n",
        "    \"yes\": \"sí\",\n",
        "    \"no\": \"no\",\n",
        "}\n",
        "while True:\n",
        "    word = input(\"Enter an English word or type 'exit' to quit: \").lower()\n",
        "    if word == 'exit':\n",
        "        print(\"Good Bye\")\n",
        "        break\n",
        "    if word in dictionary:\n",
        "        print(\"The Spanish translation of\",word,\"is\",dictionary[word])\n",
        "    else:\n",
        "        print(\"The translation of\",word,\"is not available in the dictionary\")"
      ],
      "metadata": {
        "id": "7RKtYbMZpJdh",
        "colab": {
          "base_uri": "https://localhost:8080/"
        },
        "outputId": "a1a87abb-da8f-4518-a4d8-d72f4924f7d4"
      },
      "execution_count": 5,
      "outputs": [
        {
          "output_type": "stream",
          "name": "stdout",
          "text": [
            "Enter an English word or type 'exit' to quit: yes\n",
            "The Spanish translation of yes is sí\n",
            "Enter an English word or type 'exit' to quit: exit\n",
            "Good Bye\n"
          ]
        }
      ]
    },
    {
      "cell_type": "markdown",
      "source": [
        "# Lab Task 04"
      ],
      "metadata": {
        "id": "h_8wOMWitspv"
      }
    },
    {
      "cell_type": "markdown",
      "source": [
        "dataset link : https://raw.githubusercontent.com/TirendazAcademy/PANDAS-TUTORIAL/main/DataSets/vgsalesGlobale.csv\n",
        "#Exercise\n",
        "Use the dataset of Game, we have explored earlier and perform following operations.\n",
        "\n",
        "* Calculate the total global sales for all games in the dataset.\n",
        "* Find the game with the highest global sales.\n",
        "* Determine the average sales for each region (NA_Sales, EU_Sales, JP_Sales, Other_Sales).\n",
        "* Find the top 5 most popular game genres based on global sales.\n",
        "* Calculate the total sales for each genre in each region and find the most popular genre in North America (NA_Sales).\n",
        "* Display last 10 rows.\n",
        "* Determine the top 3 gaming platforms with the highest global sales.\n",
        "* Calculate the market share (percentage of global sales) for each genre.\n",
        "* Calculate the correlation coefficient between NA_Sales and EU_Sales. (.corr function)"
      ],
      "metadata": {
        "id": "Qq4VH1Jkts32"
      }
    },
    {
      "cell_type": "markdown",
      "source": [
        "Some tree example"
      ],
      "metadata": {
        "id": "b9WEL8JcZFfY"
      }
    },
    {
      "cell_type": "code",
      "source": [
        "# import pandas as pd\n",
        "\n",
        "# # Create a DataFrame to represent a tree\n",
        "# data = {\n",
        "#     'node': ['A', 'B', 'C', 'D', 'E', 'F'],\n",
        "#     'parent': [None, 'A', 'A', 'B', 'B', 'C']\n",
        "# }\n",
        "# df = pd.DataFrame(data)\n",
        "\n",
        "# print(df)\n"
      ],
      "metadata": {
        "id": "re3_ijh12uCi"
      },
      "execution_count": null,
      "outputs": []
    },
    {
      "cell_type": "code",
      "source": [
        "import pandas as pd\n",
        "\n",
        "df = pd.read_csv(\"game.csv\")\n",
        "print(\"1\")\n",
        "total_global_sales = df['Global_Sales'].sum()\n",
        "print(\"Total global sales for all games:\", total_global_sales)\n",
        "print(\"\\n2\")\n",
        "game_highest_sales = df.loc[df['Global_Sales'].idxmax()]\n",
        "print(\"Game with the highest global sales:\", game_highest_sales['Name'], game_highest_sales['Global_Sales'])\n",
        "print(\"\\n3\")\n",
        "average_sales = df[['NA_Sales', 'EU_Sales', 'JP_Sales', 'Other_Sales']].mean()\n",
        "print(\"Average sales for each region:\")\n",
        "print(average_sales)\n",
        "print(\"\\n4\")\n",
        "top_5_genres = df.groupby('Genre')['Global_Sales'].sum().nlargest(5)\n",
        "print(\"Top 5 most popular game genres based on global sales:\")\n",
        "print(top_5_genres)\n",
        "print(\"\\n5\")\n",
        "genre_sales_by_region = df.groupby('Genre')[['NA_Sales', 'EU_Sales', 'JP_Sales', 'Other_Sales']].sum()\n",
        "print(\"Total sales for each genre in each region:\")\n",
        "print(genre_sales_by_region)\n",
        "print(\"\\n6\")\n",
        "most_popular_genre_na = genre_sales_by_region['NA_Sales'].idxmax()\n",
        "print(\"Most popular genre in North America (NA_Sales):\", most_popular_genre_na)\n",
        "print(\"\\n7\")\n",
        "print(\"Last 10 rows of the dataset:\")\n",
        "print(df.tail(10))\n",
        "print(\"\\n8\")\n",
        "top_3_platforms = df.groupby('Platform')['Global_Sales'].sum().nlargest(3)\n",
        "print(\"Top 3 gaming platforms with the highest global sales:\")\n",
        "print(top_3_platforms)\n",
        "print(\"\\n9\")\n",
        "market_share = (df.groupby('Genre')['Global_Sales'].sum() / total_global_sales) * 100\n",
        "print(\"Market share (percentage of global sales) for each genre:\")\n",
        "print(market_share)\n",
        "print(\"\\n10\")\n",
        "correlation_coefficient = df['NA_Sales'].corr(df['EU_Sales'])\n",
        "print(\"Correlation coefficient between NA_Sales and EU_Sales:\", correlation_coefficient)\n"
      ],
      "metadata": {
        "colab": {
          "base_uri": "https://localhost:8080/"
        },
        "id": "fFp4EPrFdA3a",
        "outputId": "df714be5-53d3-4721-f803-0c507eb0c9ba"
      },
      "execution_count": 9,
      "outputs": [
        {
          "output_type": "stream",
          "name": "stdout",
          "text": [
            "1\n",
            "Total global sales for all games: 8920.44\n",
            "\n",
            "2\n",
            "Game with the highest global sales: Wii Sports 82.74\n",
            "\n",
            "3\n",
            "Average sales for each region:\n",
            "NA_Sales       0.264667\n",
            "EU_Sales       0.146652\n",
            "JP_Sales       0.077782\n",
            "Other_Sales    0.048063\n",
            "dtype: float64\n",
            "\n",
            "4\n",
            "Top 5 most popular game genres based on global sales:\n",
            "Genre\n",
            "Action          1751.18\n",
            "Sports          1330.93\n",
            "Shooter         1037.37\n",
            "Role-Playing     927.37\n",
            "Platform         831.37\n",
            "Name: Global_Sales, dtype: float64\n",
            "\n",
            "5\n",
            "Total sales for each genre in each region:\n",
            "              NA_Sales  EU_Sales  JP_Sales  Other_Sales\n",
            "Genre                                                  \n",
            "Action          877.83    525.00    159.95       187.38\n",
            "Adventure       105.80     64.13     52.07        16.81\n",
            "Fighting        223.59    101.32     87.35        36.68\n",
            "Misc            410.24    215.98    107.76        75.32\n",
            "Platform        447.05    201.63    130.77        51.59\n",
            "Puzzle          123.78     50.78     57.31        12.55\n",
            "Racing          359.42    238.39     56.69        77.27\n",
            "Role-Playing    327.28    188.06    352.31        59.61\n",
            "Shooter         582.60    313.27     38.28       102.69\n",
            "Simulation      183.31    113.38     63.70        31.52\n",
            "Sports          683.35    376.85    135.37       134.97\n",
            "Strategy         68.70     45.34     49.46        11.36\n",
            "\n",
            "6\n",
            "Most popular genre in North America (NA_Sales): Action\n",
            "\n",
            "7\n",
            "Last 10 rows of the dataset:\n",
            "        Rank                                               Name Platform  \\\n",
            "16588  16591                                   Mega Brain Boost       DS   \n",
            "16589  16592  Chou Ezaru wa Akai Hana: Koi wa Tsuki ni Shiru...      PSV   \n",
            "16590  16593  Eiyuu Densetsu: Sora no Kiseki Material Collec...      PSP   \n",
            "16591  16594                                Myst IV: Revelation       PC   \n",
            "16592  16595                                           Plushees       DS   \n",
            "16593  16596                 Woody Woodpecker in Crazy Castle 5      GBA   \n",
            "16594  16597                      Men in Black II: Alien Escape       GC   \n",
            "16595  16598   SCORE International Baja 1000: The Official Game      PS2   \n",
            "16596  16599                                         Know How 2       DS   \n",
            "16597  16600                                   Spirits & Spells      GBA   \n",
            "\n",
            "         Year         Genre              Publisher  NA_Sales  EU_Sales  \\\n",
            "16588  2008.0        Puzzle  Majesco Entertainment      0.01      0.00   \n",
            "16589  2016.0        Action        dramatic create      0.00      0.00   \n",
            "16590  2007.0  Role-Playing     Falcom Corporation      0.00      0.00   \n",
            "16591  2004.0     Adventure                Ubisoft      0.01      0.00   \n",
            "16592  2008.0    Simulation              Destineer      0.01      0.00   \n",
            "16593  2002.0      Platform                  Kemco      0.01      0.00   \n",
            "16594  2003.0       Shooter             Infogrames      0.01      0.00   \n",
            "16595  2008.0        Racing             Activision      0.00      0.00   \n",
            "16596  2010.0        Puzzle               7G//AMES      0.00      0.01   \n",
            "16597  2003.0      Platform                Wanadoo      0.01      0.00   \n",
            "\n",
            "       JP_Sales  Other_Sales  Global_Sales  \n",
            "16588      0.00          0.0          0.01  \n",
            "16589      0.01          0.0          0.01  \n",
            "16590      0.01          0.0          0.01  \n",
            "16591      0.00          0.0          0.01  \n",
            "16592      0.00          0.0          0.01  \n",
            "16593      0.00          0.0          0.01  \n",
            "16594      0.00          0.0          0.01  \n",
            "16595      0.00          0.0          0.01  \n",
            "16596      0.00          0.0          0.01  \n",
            "16597      0.00          0.0          0.01  \n",
            "\n",
            "8\n",
            "Top 3 gaming platforms with the highest global sales:\n",
            "Platform\n",
            "PS2     1255.64\n",
            "X360     979.96\n",
            "PS3      957.84\n",
            "Name: Global_Sales, dtype: float64\n",
            "\n",
            "9\n",
            "Market share (percentage of global sales) for each genre:\n",
            "Genre\n",
            "Action          19.631094\n",
            "Adventure        2.679688\n",
            "Fighting         5.032375\n",
            "Misc             9.079821\n",
            "Platform         9.319832\n",
            "Puzzle           2.745941\n",
            "Racing           8.206322\n",
            "Role-Playing    10.396012\n",
            "Shooter         11.629135\n",
            "Simulation       4.396644\n",
            "Sports          14.920004\n",
            "Strategy         1.963132\n",
            "Name: Global_Sales, dtype: float64\n",
            "\n",
            "10\n",
            "Correlation coefficient between NA_Sales and EU_Sales: 0.7677267483702631\n"
          ]
        }
      ]
    },
    {
      "cell_type": "code",
      "source": [
        "# pip install networkx\n"
      ],
      "metadata": {
        "id": "4eYXGm0c2yAl"
      },
      "execution_count": null,
      "outputs": []
    },
    {
      "cell_type": "code",
      "source": [
        "# import pandas as pd\n",
        "# import networkx as nx\n",
        "# import matplotlib.pyplot as plt\n",
        "\n",
        "# # Create a DataFrame representing edges in a graph\n",
        "# data = {\n",
        "#     'from': ['A', 'A', 'B', 'C', 'D'],\n",
        "#     'to': ['B', 'C', 'D', 'E', 'E']\n",
        "# }\n",
        "# edges = pd.DataFrame(data)\n",
        "\n",
        "# # Create a graph from the edges DataFrame\n",
        "# G = nx.from_pandas_edgelist(edges, 'from', 'to')\n",
        "\n",
        "# # Draw the graph\n",
        "# nx.draw(G, with_labels=True)\n",
        "# plt.show()\n",
        "\n",
        "# # Analyze the graph\n",
        "# print(\"Nodes:\", G.nodes())\n",
        "# print(\"Edges:\", G.edges())\n",
        "# print(\"Degree for each Node:\", dict(G.degree()))\n"
      ],
      "metadata": {
        "id": "QBd8dZTF224G"
      },
      "execution_count": null,
      "outputs": []
    }
  ]
}